{
 "cells": [
  {
   "cell_type": "markdown",
   "metadata": {},
   "source": [
    "# OBLIGATORIO DE ML 2\n",
    "* 42987844 - Carlos Piriz"
   ]
  },
  {
   "cell_type": "markdown",
   "metadata": {},
   "source": [
    "---\n",
    "# Entendimiento del negocio (Business Understanding)\n",
    "---"
   ]
  },
  {
   "cell_type": "markdown",
   "metadata": {},
   "source": [
    "## Contexto\n",
    "En base a los crecientes casos de personas que sufren ataques al corazon el Hospital de Clínicas, pretende llevar a cabo un trabajo que permita identificar de manera preventiva y con la mayor antelacion posible, probables casos de personas predispuestas a sufrir dichos ataques.\n",
    "De esta manera, se puede hacer un seguimiento de estos pacientes, una mejor prevencion. Redundando esto en, mejor calidad de servicio, mayor proteccion de la vida de los pacientes, probable ahorro en tratamientos y procedimientos de emergencia ocasionados por el tratamiento de los pacientes que sufren ataques. Permitiendo uan mejor planificacion y uso, tanto de personal, como de instrumental y recursos con los que cuenta el hospital.\n",
    "\n",
    "## Alcance\n",
    "En base a este contexto, es que plantea la realizacion de una proceso que permita identificar de manera asertiva y rapida la predisposicion a los ataques cardiacos.  En este sentido, como primera instancia se plantea la realizacion de un modelo de datos para poder predecir o clasificar rapidamente, en base a algunos datos, la predisposicion a un ataque para un paciente.\n",
    "Este proceso implica:\n",
    "    * La generacion de un modelo correcto y conveniente.\n",
    "    * La puesta a disposicion del modelo para su uso por parte del personal del hospital.\n",
    "\n",
    "## Criterios de exito\n",
    "Si bien, en base al contexto, se pretende lograr segun este proceso, mejora en la atencion, prevencion , gestion de los recursos, etc. Implicando esto mejoras en la gestion de la atencion al paciente, concretamente para este alcance deseado, se tomaran como criterios de exito:\n",
    "    * Que se logre realizar un modelo adecuado, validando segun las metricas correspondientes.\n",
    "    * Que el modelo pueda generalizar adecuadamente con datos no conocidos.\n",
    "\n",
    "## Viabilidad\n",
    "Para la realizacion de este proyecto, entendemos necesaria la disponibilidad de datos, asi como del equipamiento necesario para la realizacion de las tareas necesarias.\n",
    "    \n",
    "    "
   ]
  },
  {
   "cell_type": "markdown",
   "metadata": {},
   "source": [
    "* https://www.kaggle.com/datasets/rashikrahmanpritom/heart-attack-analysis-prediction-dataset\n",
    "* https://www.kdnuggets.com/2022/06/making-sense-crispmlq-machine-learning-lifecycle-process.html\n"
   ]
  },
  {
   "cell_type": "code",
   "execution_count": 1,
   "metadata": {},
   "outputs": [],
   "source": [
    "############################################################################################################################################################\n",
    "# IMPORTACIONES \n",
    "############################################################################################################################################################\n",
    "#Sistema\n",
    "import os\n",
    "#DB\n",
    "from sqlalchemy import create_engine, text\n",
    "\n",
    "import logging\n",
    "logging.basicConfig()\n",
    "logging.disable(logging.INFO)\n",
    "logging.getLogger('sqlalchemy').setLevel(logging.ERROR)\n",
    "\n",
    "#Datos, procesamiento\n",
    "import pandas as pd\n",
    "import numpy as np\n",
    "\n",
    "#Fechas\n",
    "import datetime as dt\n",
    "from datetime import datetime, date, time, timedelta\n",
    "import calendar\n",
    "\n",
    "#Visualizacion\n",
    "import seaborn as sns\n",
    "import matplotlib as mpl\n",
    "import matplotlib.pyplot as plt\n",
    "#%matplotlib inline\n",
    "import plotly.io as pio\n",
    "import dash_bootstrap_components as dbc\n",
    "import plotly.express as px\n",
    "import plotly.graph_objs as go\n",
    "from dash import Dash\n",
    "from dash import dcc\n",
    "from dash import html\n",
    "from dash import ctx,callback\n",
    "from dash.dependencies import Input, Output, State\n",
    "stylesheet = [dbc.themes.BOOTSTRAP]\n",
    "\n",
    "# Otras importaciones\n",
    "from matplotlib import ticker\n",
    "from matplotlib.ticker import FuncFormatter\n",
    "from babel.numbers import format_currency\n",
    "\n",
    "#PDF\n",
    "#rom weasyprint import HTML, CSS\n",
    "#from weasyprint.text.fonts import FontConfiguration\n",
    "\n",
    "#Requests\n",
    "import requests as req\n",
    "\n",
    "\n",
    "# Para configuraciones locales\n",
    "import locale\n",
    "#locale.setlocale(locale.LC_ALL, '')\n",
    "#locale._override_localeconv[\"thousands_sep\"] = \".\"\n",
    "#locale._override_localeconv[\"decimal_point\"] = \",\"\n",
    "#print (locale.atof('123.456,78'))\n",
    "#print(locale.currency(12345.67))\n"
   ]
  },
  {
   "cell_type": "markdown",
   "metadata": {},
   "source": [
    "---\n",
    "# Entendimiento de los datos (Data Understanding)\n",
    "---"
   ]
  },
  {
   "cell_type": "code",
   "execution_count": 2,
   "metadata": {},
   "outputs": [],
   "source": [
    "df_heart = pd.read_csv('./datos/heart.csv')"
   ]
  },
  {
   "cell_type": "code",
   "execution_count": 3,
   "metadata": {},
   "outputs": [
    {
     "data": {
      "text/html": [
       "<div>\n",
       "<style scoped>\n",
       "    .dataframe tbody tr th:only-of-type {\n",
       "        vertical-align: middle;\n",
       "    }\n",
       "\n",
       "    .dataframe tbody tr th {\n",
       "        vertical-align: top;\n",
       "    }\n",
       "\n",
       "    .dataframe thead th {\n",
       "        text-align: right;\n",
       "    }\n",
       "</style>\n",
       "<table border=\"1\" class=\"dataframe\">\n",
       "  <thead>\n",
       "    <tr style=\"text-align: right;\">\n",
       "      <th></th>\n",
       "      <th>age</th>\n",
       "      <th>sex</th>\n",
       "      <th>cp</th>\n",
       "      <th>trtbps</th>\n",
       "      <th>chol</th>\n",
       "      <th>fbs</th>\n",
       "      <th>restecg</th>\n",
       "      <th>thalachh</th>\n",
       "      <th>exng</th>\n",
       "      <th>oldpeak</th>\n",
       "      <th>slp</th>\n",
       "      <th>caa</th>\n",
       "      <th>thall</th>\n",
       "      <th>output</th>\n",
       "    </tr>\n",
       "  </thead>\n",
       "  <tbody>\n",
       "    <tr>\n",
       "      <th>0</th>\n",
       "      <td>63</td>\n",
       "      <td>1</td>\n",
       "      <td>3</td>\n",
       "      <td>145</td>\n",
       "      <td>233</td>\n",
       "      <td>1</td>\n",
       "      <td>0</td>\n",
       "      <td>150</td>\n",
       "      <td>0</td>\n",
       "      <td>2.3</td>\n",
       "      <td>0</td>\n",
       "      <td>0</td>\n",
       "      <td>1</td>\n",
       "      <td>1</td>\n",
       "    </tr>\n",
       "    <tr>\n",
       "      <th>1</th>\n",
       "      <td>37</td>\n",
       "      <td>1</td>\n",
       "      <td>2</td>\n",
       "      <td>130</td>\n",
       "      <td>250</td>\n",
       "      <td>0</td>\n",
       "      <td>1</td>\n",
       "      <td>187</td>\n",
       "      <td>0</td>\n",
       "      <td>3.5</td>\n",
       "      <td>0</td>\n",
       "      <td>0</td>\n",
       "      <td>2</td>\n",
       "      <td>1</td>\n",
       "    </tr>\n",
       "    <tr>\n",
       "      <th>2</th>\n",
       "      <td>41</td>\n",
       "      <td>0</td>\n",
       "      <td>1</td>\n",
       "      <td>130</td>\n",
       "      <td>204</td>\n",
       "      <td>0</td>\n",
       "      <td>0</td>\n",
       "      <td>172</td>\n",
       "      <td>0</td>\n",
       "      <td>1.4</td>\n",
       "      <td>2</td>\n",
       "      <td>0</td>\n",
       "      <td>2</td>\n",
       "      <td>1</td>\n",
       "    </tr>\n",
       "    <tr>\n",
       "      <th>3</th>\n",
       "      <td>56</td>\n",
       "      <td>1</td>\n",
       "      <td>1</td>\n",
       "      <td>120</td>\n",
       "      <td>236</td>\n",
       "      <td>0</td>\n",
       "      <td>1</td>\n",
       "      <td>178</td>\n",
       "      <td>0</td>\n",
       "      <td>0.8</td>\n",
       "      <td>2</td>\n",
       "      <td>0</td>\n",
       "      <td>2</td>\n",
       "      <td>1</td>\n",
       "    </tr>\n",
       "    <tr>\n",
       "      <th>4</th>\n",
       "      <td>57</td>\n",
       "      <td>0</td>\n",
       "      <td>0</td>\n",
       "      <td>120</td>\n",
       "      <td>354</td>\n",
       "      <td>0</td>\n",
       "      <td>1</td>\n",
       "      <td>163</td>\n",
       "      <td>1</td>\n",
       "      <td>0.6</td>\n",
       "      <td>2</td>\n",
       "      <td>0</td>\n",
       "      <td>2</td>\n",
       "      <td>1</td>\n",
       "    </tr>\n",
       "  </tbody>\n",
       "</table>\n",
       "</div>"
      ],
      "text/plain": [
       "   age  sex  cp  trtbps  chol  fbs  restecg  thalachh  exng  oldpeak  slp  \\\n",
       "0   63    1   3     145   233    1        0       150     0      2.3    0   \n",
       "1   37    1   2     130   250    0        1       187     0      3.5    0   \n",
       "2   41    0   1     130   204    0        0       172     0      1.4    2   \n",
       "3   56    1   1     120   236    0        1       178     0      0.8    2   \n",
       "4   57    0   0     120   354    0        1       163     1      0.6    2   \n",
       "\n",
       "   caa  thall  output  \n",
       "0    0      1       1  \n",
       "1    0      2       1  \n",
       "2    0      2       1  \n",
       "3    0      2       1  \n",
       "4    0      2       1  "
      ]
     },
     "execution_count": 3,
     "metadata": {},
     "output_type": "execute_result"
    }
   ],
   "source": [
    "df_heart.head()"
   ]
  },
  {
   "cell_type": "markdown",
   "metadata": {},
   "source": [
    "---\n",
    "# Preparacion de los datos (Data Preparation)\n",
    "---"
   ]
  },
  {
   "cell_type": "markdown",
   "metadata": {},
   "source": [
    "---\n",
    "# Modeling (Modeling)\n",
    "---"
   ]
  },
  {
   "cell_type": "markdown",
   "metadata": {},
   "source": [
    "---\n",
    "# Evaluacion (Evaluation)\n",
    "---"
   ]
  },
  {
   "cell_type": "markdown",
   "metadata": {},
   "source": [
    "---\n",
    "# Deployment (Despliegue)\n",
    "---"
   ]
  }
 ],
 "metadata": {
  "kernelspec": {
   "display_name": "envWindows",
   "language": "python",
   "name": "python3"
  },
  "language_info": {
   "codemirror_mode": {
    "name": "ipython",
    "version": 3
   },
   "file_extension": ".py",
   "mimetype": "text/x-python",
   "name": "python",
   "nbconvert_exporter": "python",
   "pygments_lexer": "ipython3",
   "version": "3.12.0"
  }
 },
 "nbformat": 4,
 "nbformat_minor": 2
}
