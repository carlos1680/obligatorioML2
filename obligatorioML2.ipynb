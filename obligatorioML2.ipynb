{
 "cells": [
  {
   "cell_type": "markdown",
   "metadata": {},
   "source": [
    "# OBLIGATORIO DE ML 2\n",
    "* 42987844 - Carlos Piriz"
   ]
  },
  {
   "cell_type": "markdown",
   "metadata": {},
   "source": [
    "---\n",
    "# Entendimiento del negocio (Business Understanding)\n",
    "---"
   ]
  },
  {
   "cell_type": "markdown",
   "metadata": {},
   "source": [
    "## Contexto\n",
    "En base a los crecientes casos de personas que sufren ataques al corazon, el Hospital de Clínicas pretende llevar a cabo un trabajo que permita identificar de manera preventiva y con la mayor antelacion posible, probables casos de personas predispuestas a sufrir dichos ataques.\n",
    "De esta manera, se puede hacer un seguimiento de estos pacientes y una mejor prevencion. Redundando esto en, mejor calidad de servicio, mayor proteccion de la vida de los pacientes, probable ahorro en tratamientos y procedimientos de emergencia ocasionados por el tratamiento de los pacientes que sufren ataques. Permitiendo una mejor planificacion y uso, tanto de personal, como de instrumental y recursos con los que cuenta el hospital.\n",
    "\n",
    "### Motivacion\n",
    "Es en el contexto de lo explicado anteriormente, es que, surge la motivacion de crear una forma rapida, generalizable, rentable y confiable de lograr determinar los pacientes a cuales diferenciar en su tratamiento, con la identificacion temprana.\n",
    "\n",
    "\n",
    "## Alcance\n",
    "En base a este contexto y motivacion, es que se plantea la realizacion de una proceso que permita identificar de manera asertiva y rapida la predisposicion a los ataques cardiacos.  En este sentido, como primera instancia se plantea la realizacion de un modelo de datos para poder predecir o clasificar rapidamente, en base a algunos datos de entrada, la predisposicion a un ataque para un paciente dado.\n",
    "Este proceso, en esta instancia, implica:\n",
    "* La generacion de un modelo correcto y conveniente. Que permita resolver o responder, qué personas son propensas o tienen mayor probabilidad a tener un ataque cardiaco.\n",
    "* La puesta a disposicion del modelo para su uso por parte del personal del hospital. Identificando alguna manera de aplicacion viable.\n",
    "Cabe aclarar, que un buen metodo propio, podria favorecer a toda la salud en general, brindando metodos generales o centralizados para poder replicar el modelo para otras organizaciones de la salud, por ejemplo.\n",
    "Independientemente de esto, entendemos que cualquier mejora o logro con este alcance, redundara en una mejor atencion de la salud en general, con un impacto positivo en todos los sentidos.\n",
    "\n",
    "\n",
    "## Criterios de exito\n",
    "Si bien, en base al contexto, se pretende lograr segun este proceso, mejora en la atencion, prevencion, gestion de los recursos, etc. Implicando esto, mejoras en la gestion de la atencion al paciente, concretamente para este alcance deseado, se tomaran como criterios de exito:\n",
    "* Que se logre realizar un modelo adecuado, validando segun las metricas correspondientes.\n",
    "* Que el modelo pueda generalizar adecuadamente con datos no conocidos.\n",
    "* Establecer un criterio de aceptacion de eficacia del modelo.\n",
    "    * En cuanto a este criterio de aceptacion de exito, dependera, pero en general se toma que un 80% de aciertos parece razonable.\n",
    "\n",
    "## Viabilidad\n",
    "Para la realizacion de este proyecto, entendemos necesaria la disponibilidad de datos, asi como del equipamiento necesario para la realizacion de las tareas necesarias.\n",
    "En base a estos requerimientos, se plantean ciertas cuestiones que suponen algun riesgo.\n",
    "### Riesgos\n",
    "* Falta de datos para el analisis y la generacion del modelo: Esto es, que no se disponga de los datos necesarios ya sea en calidad como en cantidad. Para mitigar o solventar este riesgo, si no es posible obtener los datos necesarios de los pacientes propios, se recurrira a un conjunto de datos equivalentes( o que pudieran servir al proposito).\n",
    "* Falta de equipamiento necesario: Esto se refiere tanto al equipamiento para la obtencion de los datos, como tambien para su procesamiento y generacion de modelo resultante. En este sentido, suponemos que los datos ya fueron tomados, necesitariamos equipamiento de computos para el procesamiento. Esto se puede obtener de recursos propios, asi como tambien usando plataformas online pagas por ejemplo.  \n",
    "### Soluciones existentes\n",
    "* Si bien, existen generaciones de modelos como el que se plantea realizar, la finalidad del proceso implica, tener metodos y procesos propios que puedan servir como insumo para los fines mas generales y que a su vez estos  metodos y procesos puedan ser controlados y corregidos segun necesidades. Por tal razon, se justifica este proyecto.\n",
    "\n",
    "## Entregables e hitos\n",
    "### Entregables\n",
    "Se pretende dividir el proceso de la generacion del modelo en los siguientes pasos:\n",
    "* Entregable 1: Obtencion de los datos.\n",
    "* Entregable 2: Analisis de los datos.\n",
    "* Entregable 3: Limpieza y preparacion de los datos.\n",
    "* Entregable 4: Generacion del modelo adecuado.\n",
    "* Entregable 5: Disponibilidad del modelo para su uso.\n",
    "### Plazos\n",
    "En cuanto a los plazos, se plantea el siguiente cronograma segun la secuencia de los entregables:\n",
    "* Entregable 1: 3 dias\n",
    "* Entregable 2: 5 dias\n",
    "* Entregable 3: 10 dias\n",
    "* Entregable 4: 4 dias\n",
    "* Entregable 5: 4 dias\n",
    "* Margen: 2 dias.\n",
    "### Metodologias\n",
    "En cuanto a las metodologias a utilizar, seran las metodologias correspondientes y necesarias, como:\n",
    "* Obtencion y/o extraccion de datos.\n",
    "* Normalizacion y homogenizacion de los datos.\n",
    "* Limpieza y analisis de los datos.\n",
    "* Limpieza y preparacion de los datos.\n",
    "* Analisis y generacion de un modelo que cumpla las espectativas.\n",
    "* Secuenciacion de tareas para poder generar procesos reproducibles.\n",
    "\n",
    "\n",
    "\n",
    "\n",
    "\n",
    "    \n",
    "    "
   ]
  },
  {
   "cell_type": "code",
   "execution_count": null,
   "metadata": {},
   "outputs": [],
   "source": [
    "############################################################################################################################################################\n",
    "# IMPORTACIONES \n",
    "############################################################################################################################################################\n",
    "#Sistema\n",
    "import warnings\n",
    "import os\n",
    "#DB\n",
    "from sqlalchemy import create_engine, text\n",
    "\n",
    "import logging\n",
    "logging.basicConfig()\n",
    "logging.disable(logging.INFO)\n",
    "logging.getLogger('sqlalchemy').setLevel(logging.ERROR)\n",
    "\n",
    "#Datos, procesamiento\n",
    "import pandas as pd\n",
    "import numpy as np\n",
    "\n",
    "#Fechas\n",
    "import datetime as dt\n",
    "from datetime import datetime, date, time, timedelta\n",
    "import calendar\n",
    "\n",
    "#Visualizacion\n",
    "import seaborn as sns\n",
    "import matplotlib as mpl\n",
    "import matplotlib.pyplot as plt\n",
    "#%matplotlib inline\n",
    "import plotly.io as pio\n",
    "import dash_bootstrap_components as dbc\n",
    "import plotly.express as px\n",
    "import plotly.graph_objs as go\n",
    "from dash import Dash\n",
    "from dash import dcc\n",
    "from dash import html\n",
    "from dash import ctx,callback\n",
    "from dash.dependencies import Input, Output, State\n",
    "stylesheet = [dbc.themes.BOOTSTRAP]\n",
    "\n",
    "# Otras importaciones\n",
    "from matplotlib import ticker\n",
    "from matplotlib.ticker import FuncFormatter\n",
    "from babel.numbers import format_currency\n",
    "\n",
    "#PDF\n",
    "#rom weasyprint import HTML, CSS\n",
    "#from weasyprint.text.fonts import FontConfiguration\n",
    "\n",
    "#Requests\n",
    "import requests as req\n",
    "\n",
    "\n",
    "# Para configuraciones locales\n",
    "import locale\n",
    "#locale.setlocale(locale.LC_ALL, '')\n",
    "#locale._override_localeconv[\"thousands_sep\"] = \".\"\n",
    "#locale._override_localeconv[\"decimal_point\"] = \",\"\n",
    "#print (locale.atof('123.456,78'))\n",
    "#print(locale.currency(12345.67))\n",
    "\n",
    "warnings.filterwarnings(\"ignore\")"
   ]
  },
  {
   "cell_type": "markdown",
   "metadata": {},
   "source": [
    "---\n",
    "# Entendimiento de los datos (Data Understanding)\n",
    "---\n",
    "## Dataset\n",
    "### Origen\n",
    "Para este primer acercamiento se utilizara el dataset, obtenido desde:\n",
    "* https://www.kaggle.com/datasets/rashikrahmanpritom/heart-attack-analysis-prediction-dataset\n",
    "\n",
    "### Columnas - Nombres y significado\n",
    "Las columnas iniciales del dataset son:\n",
    "\n",
    "* age : Edad del paciente\n",
    "* sex : Sexo del paciente\n",
    "\t* Valor 0: Femenino\n",
    "\t* Valor 1: Masculino\n",
    "* cp : Tipo de dolor en el pecho\n",
    "    *  Valor 1: Angina tipica\n",
    "\t*  Valor 2: Angina atipica\n",
    "\t*  Valor 3: Dolor no anginal\n",
    "\t*  Value 0: Asintomatico\n",
    "* trtbps : Presion arterial en reposo (in mm Hg)\n",
    "* chol : Colesterol(colestoral) en mg/dl obtenido a través del sensor de IMC\n",
    "* fbs : Azucar en la sangre en ayunas > 120 mg/dl\n",
    "\t* 1 = Verdadero\n",
    "\t* 0 = Falso\n",
    "* restecg : Resultados electrocardiograficos en reposo.\n",
    "\t* Valor 0: Normal\n",
    "\t* Valor 1: Teniendo anomalía de la onda ST-T (inversiones de la onda T y/o elevación o depresión del ST > 0,05 mV)\n",
    "\t* Valor 2: Mostrando hipertrofia ventricular izquierda probable o definitiva según los criterios Valorthalach de Estes: frecuencia cardíaca máxima valor alcanzado\n",
    "* thalachh : Frecuencia cardíaca máxima alcanzada\n",
    "* exng: Angina inducida por el ejercicio \n",
    "\t* 1 = Si\n",
    "\t* 0 = No\n",
    "* oldpeak: Pico anterior\n",
    "* slp: Pendiente (Medida del cambio en el segmento ST en relación con el aumento de la frecuencia cardíaca durante el ejercicio)\n",
    "* caa: Número de vasos importantes Aorta,vena pulmonar, vena cava, tronco pulmonar)\n",
    "* thall: El estado del corazón obtenido de la prueba de talio \n",
    "\t1: Normal,\n",
    "\t2: Defecto fijo\n",
    "\t3: Defecto reversible\n",
    "\t0: No detectado\n",
    "* target : \n",
    "\t* 0= Menos posibilidades de sufrir un ataque cardíaco\n",
    "\t* 1= Mayores posibilidades de sufrir u**n ataque cardíaco\n"
   ]
  },
  {
   "cell_type": "markdown",
   "metadata": {},
   "source": [
    "### Carga del dataset y vistazo general"
   ]
  },
  {
   "cell_type": "code",
   "execution_count": null,
   "metadata": {},
   "outputs": [],
   "source": [
    "# Carga del archivo\n",
    "df_heart = pd.read_csv('./datos/heart.csv')"
   ]
  },
  {
   "cell_type": "code",
   "execution_count": null,
   "metadata": {},
   "outputs": [],
   "source": [
    "# Verificacion de las columnas\n",
    "df_heart.columns"
   ]
  },
  {
   "cell_type": "code",
   "execution_count": null,
   "metadata": {},
   "outputs": [],
   "source": [
    "# Columnas y sus tipos de datos\n",
    "df_heart.dtypes"
   ]
  },
  {
   "cell_type": "code",
   "execution_count": null,
   "metadata": {},
   "outputs": [],
   "source": [
    "# Verificacion de la carga\n",
    "df_heart.head()"
   ]
  },
  {
   "cell_type": "code",
   "execution_count": null,
   "metadata": {},
   "outputs": [],
   "source": [
    "# Otra verificacion de la carga\n",
    "df_heart.sample(10)"
   ]
  },
  {
   "cell_type": "code",
   "execution_count": null,
   "metadata": {},
   "outputs": [],
   "source": [
    "# Cantidades, dimensiones\n",
    "df_heart.shape"
   ]
  },
  {
   "cell_type": "markdown",
   "metadata": {},
   "source": [
    "## Analisis de los datos"
   ]
  },
  {
   "cell_type": "markdown",
   "metadata": {},
   "source": [
    "### Analisis de valores importantes de los datos"
   ]
  },
  {
   "cell_type": "code",
   "execution_count": null,
   "metadata": {},
   "outputs": [],
   "source": [
    "# Valores estadisticos generales\n",
    "df_heart.describe()"
   ]
  },
  {
   "cell_type": "code",
   "execution_count": null,
   "metadata": {},
   "outputs": [],
   "source": [
    "# Informacion de las columas\n",
    "df_heart.info()"
   ]
  },
  {
   "cell_type": "markdown",
   "metadata": {},
   "source": [
    "### Duplicados"
   ]
  },
  {
   "cell_type": "code",
   "execution_count": null,
   "metadata": {},
   "outputs": [],
   "source": [
    "# Verificacion de duplicados\n",
    "df_heart.duplicated(keep='first').unique()"
   ]
  },
  {
   "cell_type": "code",
   "execution_count": null,
   "metadata": {},
   "outputs": [],
   "source": [
    "# Verificacion de duplicados\n",
    "print(df_heart.duplicated().sum())"
   ]
  },
  {
   "cell_type": "code",
   "execution_count": null,
   "metadata": {},
   "outputs": [],
   "source": [
    "# listar duplicados\n",
    "df_heart.loc[df_heart.duplicated(keep='first')]"
   ]
  },
  {
   "cell_type": "code",
   "execution_count": null,
   "metadata": {},
   "outputs": [],
   "source": [
    "# Verificacion de duplicados\n",
    "df_heart.nunique()"
   ]
  },
  {
   "cell_type": "code",
   "execution_count": null,
   "metadata": {},
   "outputs": [],
   "source": [
    "df_heart.loc[(df_heart['age']==38) & (df_heart['trtbps']==138)]"
   ]
  },
  {
   "cell_type": "markdown",
   "metadata": {},
   "source": [
    "### Valores nulos"
   ]
  },
  {
   "cell_type": "code",
   "execution_count": null,
   "metadata": {},
   "outputs": [],
   "source": [
    "df_heart.isnull().sum()"
   ]
  },
  {
   "cell_type": "code",
   "execution_count": null,
   "metadata": {},
   "outputs": [],
   "source": [
    "df_heart.info()"
   ]
  },
  {
   "cell_type": "markdown",
   "metadata": {},
   "source": [
    "### Verificacion de valores por columnas"
   ]
  },
  {
   "cell_type": "code",
   "execution_count": null,
   "metadata": {},
   "outputs": [],
   "source": [
    "for c in df_heart:\n",
    "    print(\"** Columna: \"+ c+ \" **\")\n",
    "    print(df_heart[c].unique())\n",
    "    print(\"--------------------------------------------\")\n",
    "    print(df_heart[c].nunique())\n",
    "    print()"
   ]
  },
  {
   "cell_type": "code",
   "execution_count": null,
   "metadata": {},
   "outputs": [],
   "source": [
    "# Renombramos las columnas\n",
    "df_heart.columns = ['edad','sexo','tipo_dolor','presion_arterial_reposo','colesterol','azucar_en_sangre','res_electrocardiograficos','frec_cardiaca_max','angina_ind_ejercicio','pico_anterior','pend_frec_ejercicio','num_vasos','estado_corazon','propenso']"
   ]
  },
  {
   "cell_type": "code",
   "execution_count": null,
   "metadata": {},
   "outputs": [],
   "source": [
    "#Verificamos columnas\n",
    "df_heart.sample()"
   ]
  },
  {
   "cell_type": "markdown",
   "metadata": {},
   "source": [
    "### EDA"
   ]
  },
  {
   "cell_type": "markdown",
   "metadata": {},
   "source": [
    "##### Verificamos las correlaciones con la matriz"
   ]
  },
  {
   "cell_type": "code",
   "execution_count": null,
   "metadata": {},
   "outputs": [],
   "source": [
    "# Calculamos la matris de correlacion\n",
    "corrmat = df_heart.corr()\n",
    "# Establecer la mascara para mostrar segun indices\n",
    "mask= np.zeros_like(corrmat)\n",
    "mask[np.triu_indices_from(mask)] = True\n",
    "\n",
    "# Establecer el tamaño del grafico\n",
    "plt.figure(figsize=(12, 10))\n",
    "\n",
    "# Crear el heatmap con Seaborn, ajustando la paleta de colores\n",
    "sns.heatmap(corrmat,\n",
    "            vmax=1, vmin=-1,\n",
    "            annot=True, annot_kws={'fontsize':7},\n",
    "            mask=mask,\n",
    "            cmap=sns.diverging_palette(20,220,as_cmap=True))\n",
    "\n",
    "# Mostrar el gráfico\n",
    "plt.title('Matriz de Correlación (parte inferior)')\n",
    "plt.show()"
   ]
  },
  {
   "cell_type": "markdown",
   "metadata": {},
   "source": [
    "#### Observacion 1\n",
    "La matriz de correlaciones:\n",
    "* Muestra correlaciones debiles en general. No existiendo alguna correlacion fuerte presente\n",
    "* Dentro de las correlaciones mas fuertes destacamos:\n",
    "    * Positivas:\n",
    "        * Tipo de dolor - Propenso\n",
    "        * Frecuencia cardiaca maxima - Propenso\n",
    "        * Pendiente de frecuencia de ejercicio - Frecuencia cardiaca maxima\n",
    "        * Pendiente de frecuencia de ejercicio - Propenso\n",
    "    * Negativas:\n",
    "        * Pendiente de frecuencia de ejercicio - Pico anterior\n",
    "        * Dolor inducido por ejercicio - Propenso\n",
    "        * Pico anterior - Propenso\n",
    "        * Numero de vasos - Propenso\n",
    "\n",
    "Estas correlaciones destacadas parecerian coherentes ya que:\n",
    "* Pudieran haber dolores caracteristicos que pudieran ayudar a caracterizar de alguna manera esa propension.\n",
    "* Pareceria tener sentido que la frecuencia cardiaca maxima, pudiera tener injerencia en si es propenso o no.\n",
    "* Que los valores de pendiente de frecuencia de ejercicio, puede dar informacion sobre esa propension.\n",
    "* Por lo mismo, tendria sentido que exista algun nivel de correlacion entre el Pico anterior y Numero de vasos con la columna de Propenso."
   ]
  },
  {
   "cell_type": "markdown",
   "metadata": {},
   "source": [
    "##### Verificamos las distribuciones de a pares de variables"
   ]
  },
  {
   "cell_type": "code",
   "execution_count": null,
   "metadata": {},
   "outputs": [],
   "source": [
    "fig = sns.pairplot(df_heart)"
   ]
  },
  {
   "cell_type": "code",
   "execution_count": null,
   "metadata": {},
   "outputs": [],
   "source": [
    "# Observamos las densidades por pares de variables,segun valor de propenso o no\n",
    "fig = sns.pairplot(df_heart,hue='propenso',markers=[\"o\", \"s\"])"
   ]
  },
  {
   "cell_type": "code",
   "execution_count": null,
   "metadata": {},
   "outputs": [],
   "source": [
    "df_heart.hist(figsize=(20,15))\n",
    "plt.show()"
   ]
  },
  {
   "cell_type": "markdown",
   "metadata": {},
   "source": [
    "#### Observacion 2\n",
    "Segun los datos de los graficos anteriores podemos notar que:\n",
    "* Hay mas muestras de usuarios masculinos.\n",
    "* Pareciera ser que los datos indican mayor tendencia al ataque cardiaco en el caso de mujeres.\n",
    "* La mayoria de las muestras no tienen azucar en la sangre.\n",
    "* Al parecer hay mas muestras de pacientes con dolores producidos por el ejercicio\n",
    "* La mayoria de las muestras son de personas entre edades de 35-75 al parecer.\n",
    "    \n",
    "    "
   ]
  },
  {
   "cell_type": "markdown",
   "metadata": {},
   "source": [
    "## Revision de outliers"
   ]
  },
  {
   "cell_type": "code",
   "execution_count": null,
   "metadata": {},
   "outputs": [],
   "source": [
    "plt.figure(figsize=(15, 15))\n",
    "for i, col in enumerate(df_heart.columns):\n",
    "    plt.subplot(4, 4, i+1)\n",
    "    sns.boxplot(x=col, data=df_heart)\n",
    "plt.show()"
   ]
  },
  {
   "cell_type": "markdown",
   "metadata": {},
   "source": [
    "#### Analisis de columnas con outliers\n",
    "Para las columnas con outliers, vamos a analizar su distribucion:"
   ]
  },
  {
   "cell_type": "code",
   "execution_count": null,
   "metadata": {},
   "outputs": [],
   "source": [
    "# Columna: presion_arterial_reposo\n",
    "sns.distplot(df_heart['presion_arterial_reposo'], hist=True, kde=True, rug=True)"
   ]
  },
  {
   "cell_type": "code",
   "execution_count": null,
   "metadata": {},
   "outputs": [],
   "source": [
    "# Columna: colesterol\n",
    "sns.distplot(df_heart['colesterol'],hist=True, kde=True, rug=True)"
   ]
  },
  {
   "cell_type": "code",
   "execution_count": null,
   "metadata": {},
   "outputs": [],
   "source": [
    "# Columna: azucar_en_sangre\n",
    "sns.distplot(df_heart['azucar_en_sangre'],hist=True, kde=True, rug=True)"
   ]
  },
  {
   "cell_type": "code",
   "execution_count": null,
   "metadata": {},
   "outputs": [],
   "source": [
    "# Columna: frec_cardiaca_max\n",
    "sns.distplot(df_heart['frec_cardiaca_max'], hist=True, kde=True, rug=True)"
   ]
  },
  {
   "cell_type": "code",
   "execution_count": null,
   "metadata": {},
   "outputs": [],
   "source": [
    "# Columna: pico_anterior\n",
    "sns.distplot(df_heart['pico_anterior'],hist=True, kde=True, rug=True)"
   ]
  },
  {
   "cell_type": "code",
   "execution_count": null,
   "metadata": {},
   "outputs": [],
   "source": [
    "# Columna: num_vasos\n",
    "sns.distplot(df_heart['num_vasos'],hist=True, kde=True, rug=True)"
   ]
  },
  {
   "cell_type": "code",
   "execution_count": null,
   "metadata": {},
   "outputs": [],
   "source": [
    "# Columna: estado_corazon\n",
    "sns.distplot(df_heart['estado_corazon'],hist=True, kde=True, rug=True)"
   ]
  },
  {
   "cell_type": "markdown",
   "metadata": {},
   "source": [
    "### Vamos a ver cuales son los outliers"
   ]
  },
  {
   "cell_type": "code",
   "execution_count": null,
   "metadata": {},
   "outputs": [],
   "source": [
    "# Outliers para la columna: presion_arterial_reposo\n",
    "Q1 = df_heart['presion_arterial_reposo'].quantile(0.25)\n",
    "Q3 = df_heart['presion_arterial_reposo'].quantile(0.75)\n",
    "IQR = Q3 - Q1\n",
    "\n",
    "# Identificacion de outliers\n",
    "limite = 1.5\n",
    "outliers_presion_arterial_reposo_menores = df_heart[(df_heart['presion_arterial_reposo'] < Q1 - limite * IQR)]\n",
    "outliers_presion_arterial_reposo_mayores = df_heart[(df_heart['presion_arterial_reposo'] > Q3 + limite * IQR)]"
   ]
  },
  {
   "cell_type": "code",
   "execution_count": null,
   "metadata": {},
   "outputs": [],
   "source": [
    "# Outliers para la columna: colesterol\n",
    "Q1 = df_heart['colesterol'].quantile(0.25)\n",
    "Q3 = df_heart['colesterol'].quantile(0.75)\n",
    "IQR = Q3 - Q1\n",
    "\n",
    "# Identificacion de outliers\n",
    "limite = 1.5\n",
    "outliers_colesterol_menores = df_heart[(df_heart['colesterol'] < Q1 - limite * IQR)]\n",
    "outliers_colesterol_mayores = df_heart[(df_heart['colesterol'] > Q3 + limite * IQR)]"
   ]
  },
  {
   "cell_type": "code",
   "execution_count": null,
   "metadata": {},
   "outputs": [],
   "source": [
    "# Outliers para la columna: azucar_en_sangre\n",
    "Q1 = df_heart['azucar_en_sangre'].quantile(0.25)\n",
    "Q3 = df_heart['azucar_en_sangre'].quantile(0.75)\n",
    "IQR = Q3 - Q1\n",
    "\n",
    "# Identificacion de outliers\n",
    "limite = 1.5\n",
    "\n",
    "outliers_azucar_en_sangre_menores = df_heart[(df_heart['azucar_en_sangre'] < Q1 - limite * IQR)]\n",
    "outliers_azucar_en_sangre_mayores = df_heart[(df_heart['azucar_en_sangre'] > Q3 + limite * IQR)]\n"
   ]
  },
  {
   "cell_type": "code",
   "execution_count": null,
   "metadata": {},
   "outputs": [],
   "source": [
    "# Outliers para la columna: frec_cardiaca_max\n",
    "Q1 = df_heart['frec_cardiaca_max'].quantile(0.25)\n",
    "Q3 = df_heart['frec_cardiaca_max'].quantile(0.75)\n",
    "IQR = Q3 - Q1\n",
    "\n",
    "# Identificacion de outliers\n",
    "limite = 1.5\n",
    "\n",
    "outliers_frec_cardiaca_max_menores = df_heart[(df_heart['frec_cardiaca_max'] < Q1 - limite * IQR)]\n",
    "outliers_frec_cardiaca_max_mayores = df_heart[(df_heart['frec_cardiaca_max'] > Q3 + limite * IQR)]"
   ]
  },
  {
   "cell_type": "code",
   "execution_count": null,
   "metadata": {},
   "outputs": [],
   "source": [
    "# Outliers para la columna: pico_anterior\n",
    "Q1 = df_heart['pico_anterior'].quantile(0.25)\n",
    "Q3 = df_heart['pico_anterior'].quantile(0.75)\n",
    "IQR = Q3 - Q1\n",
    "\n",
    "# Identificacion de outliers\n",
    "limite = 1.5\n",
    "\n",
    "outliers_pico_anterior_menores = df_heart[(df_heart['pico_anterior'] < Q1 - limite * IQR)]\n",
    "outliers_pico_anterior_mayores = df_heart[(df_heart['pico_anterior'] > Q3 + limite * IQR)]"
   ]
  },
  {
   "cell_type": "code",
   "execution_count": null,
   "metadata": {},
   "outputs": [],
   "source": [
    "# Outliers para la columna: num_vasos\n",
    "Q1 = df_heart['num_vasos'].quantile(0.25)\n",
    "Q3 = df_heart['num_vasos'].quantile(0.75)\n",
    "IQR = Q3 - Q1\n",
    "\n",
    "# Identificacion de outliers\n",
    "limite = 1.5\n",
    "\n",
    "outliers_num_vasos_menores = df_heart[(df_heart['num_vasos'] < Q1 - limite * IQR)]\n",
    "outliers_num_vasos_mayores = df_heart[(df_heart['num_vasos'] > Q3 + limite * IQR)]"
   ]
  },
  {
   "cell_type": "code",
   "execution_count": null,
   "metadata": {},
   "outputs": [],
   "source": [
    "# Outliers para la columna: estado_corazon\n",
    "Q1 = df_heart['estado_corazon'].quantile(0.25)\n",
    "Q3 = df_heart['estado_corazon'].quantile(0.75)\n",
    "IQR = Q3 - Q1\n",
    "\n",
    "# Identificacion de outliers\n",
    "limite = 1.5\n",
    "\n",
    "outliers_estado_corazon_menores = df_heart[(df_heart['estado_corazon'] < Q1 - limite * IQR)]\n",
    "outliers_estado_corazon_mayores = df_heart[(df_heart['estado_corazon'] > Q3 + limite * IQR)]"
   ]
  },
  {
   "cell_type": "code",
   "execution_count": null,
   "metadata": {},
   "outputs": [],
   "source": [
    "data=[\n",
    "    ['presion_arterial_reposo', outliers_presion_arterial_reposo_menores.shape[0],\n",
    "        outliers_presion_arterial_reposo_mayores.shape[0]],\n",
    "    ['colesterol',outliers_colesterol_menores.shape[0],outliers_colesterol_mayores.shape[0]],\n",
    "    ['azucar_en_sangre', outliers_azucar_en_sangre_menores.shape[0], outliers_azucar_en_sangre_mayores.shape[0]],\n",
    "    ['frec_cardiaca_max', outliers_frec_cardiaca_max_menores.shape[0],outliers_frec_cardiaca_max_mayores.shape[0]],\n",
    "    ['pico_anterior', outliers_pico_anterior_menores.shape[0],outliers_pico_anterior_mayores.shape[0]],\n",
    "    ['num_vasos',outliers_num_vasos_menores.shape[0],outliers_num_vasos_mayores.shape[0]],\n",
    "    ['estado_corazon', outliers_estado_corazon_menores.shape[0],\n",
    "        outliers_estado_corazon_mayores.shape[0]]\n",
    "]\n",
    "columns = ['Columna','#Menores','#Mayores']\n",
    "df_outliers = pd.DataFrame(data,columns=columns)"
   ]
  },
  {
   "cell_type": "code",
   "execution_count": null,
   "metadata": {},
   "outputs": [],
   "source": [
    "df_outliers"
   ]
  },
  {
   "cell_type": "markdown",
   "metadata": {},
   "source": [
    "#### Observacion 3\n",
    "Segun los datos anteriores podemos notar que:\n",
    "* Son muchos los valores que tienen outliers en comparacion con los datos. Por este motivo, seria inconveniente borrar todos los registros de outliers. En su lugar, podemos aplicar por ejemplo una transformacion logaritmica a esas columnas.\n",
    "* Y luego para las restantes variables podriamos aplicar una normalizacion , utilizando Standar Scaler"
   ]
  },
  {
   "cell_type": "markdown",
   "metadata": {},
   "source": [
    "## HIPOTESIS INICIALES \n",
    "\n",
    "* En primera instancia, tenemos un conjunto de datos que, \"pensamos que correspondiente y valido\" para la generacion del modelo. Pero la idea es verificar si esa hipotesis es correcta, es decir:\n",
    "Cuán valida, util y determinante pueden ser las variables o datos que tenemos inicialmente para poder llegar al resultado objetivo? Esto es:\n",
    "    * Que injerencia, preponderancia y/o grado de aporte al modelo tiene cada una de las variables.\n",
    "    Por ejemplo:\n",
    "        * Existe alguna relacion entre la edad del paciente y la probabilidad de un ataque cardiaco?\n",
    "        * El hecho de ser de sexo masculino, aumenta el riesgo de ser mas propenso a tener un ataque cardiaco?\n",
    "        * Segun los tipos de dolores, se puede decir si tiene riesgo de un ataque cardiaco?\n",
    "        * El hecho de tener una presion arterial alta, aumenta el riesgo de ser propenso a un ataque cardiaco?\n",
    "        * El hecho de tener un valor de colesterol, aumenta el riesgo de ser propenso a un ataque cardiaco?\n",
    "        * Tener azucar en la sangre o no, influye en ser propenso a un ataque cardiaco?\n",
    "        * Son utiles los resultados electrocardiograficos para determinar la probabilidad de que tenga un ataque cardiaco?\n",
    "        * Que la frecuencia cardiaca maxima sea alta, influye en la probabilida de que tenga un ataque?\n",
    "        * El hecho de presentar o no un delor basado en el ejercicio, tiene un significado para la probabilidad de tener un ataque cardiaco?\n",
    "        * El valor de pico anterior influye en la probabilidad de tener ataque cardiaco?\n",
    "        * Tiene algun sentido considerar la pendiente de frecuncia de ejercicio para la probabilidad de tener un ataque cardiaco?\n",
    "        * El valor de numero de vasos importantes tiene alguna implicacion para el modelo a generar?\n",
    "        * Pareceria logico que el valor del estado del corazon pudiera ser pertinente a considerar por tener alguna injerencia. Sera asi?"
   ]
  },
  {
   "cell_type": "markdown",
   "metadata": {},
   "source": [
    "### Analisis de la variable objetivo segun las demas variables\n",
    "Si bien vimos la distribucion segun los pares agrupados, vamos a hacer un analisis, variable por variable. Esto nos podria ayudar a encontrar  cierta relacion mas claramente."
   ]
  },
  {
   "cell_type": "code",
   "execution_count": null,
   "metadata": {},
   "outputs": [],
   "source": [
    "edad_minima = df_heart['edad'].min()\n",
    "edad_maxima = df_heart['edad'].max()\n",
    "bins = np.arange(edad_minima, edad_maxima + 5, 5)\n",
    "\n",
    "labels = [f'{i}-{i+5}' for i in bins[:-1]]\n",
    "df_heart['cat_edad'] = pd.cut(df_heart['edad'], bins=bins, labels=labels, include_lowest=True)\n",
    "\n",
    "pd.crosstab(df_heart.cat_edad, df_heart.propenso).plot(kind=\"bar\", figsize=(10, 6))\n",
    "plt.title('Frecuencia de propenso por edad')\n",
    "plt.xlabel('Rangos de edad')\n",
    "plt.xticks(rotation=45)\n",
    "plt.ylabel('Frecuencia')\n",
    "plt.show()"
   ]
  },
  {
   "cell_type": "markdown",
   "metadata": {},
   "source": [
    "#### Observacion 4\n",
    "Podriamos decir que entre 39 y 49 años son mas propensos a ataques cardiacos?"
   ]
  },
  {
   "cell_type": "code",
   "execution_count": null,
   "metadata": {},
   "outputs": [],
   "source": [
    "# Relacion de propensos y no propensos segun sexo\n",
    "fig, (ax, ax2) = plt.subplots(1, 2, figsize=(8, 6), sharey=True)\n",
    "fig.suptitle('Distribución - Sexo')\n",
    "(df_heart[df_heart['propenso'] == 0]['sexo']\n",
    " .value_counts(1)\n",
    " .sort_index()\n",
    " .plot(ax=ax, kind='bar', color=\"yellow\"))\n",
    "ax.set_xlabel('No Propenso', size=10)\n",
    "ax.set_xticklabels([\"F\", 'M'])\n",
    "\n",
    "(df_heart[df_heart['propenso'] == 1]['sexo']\n",
    " .value_counts(1)\n",
    " .sort_index()\n",
    " .plot(ax=ax2, kind='bar', color=\"blue\"))\n",
    "ax2.set_xlabel('Propenso', size=10)\n",
    "ax2.set_xticklabels([\"F\", 'M'])\n",
    "plt.show()"
   ]
  },
  {
   "cell_type": "code",
   "execution_count": null,
   "metadata": {},
   "outputs": [],
   "source": [
    "# Porcentajes\n",
    "print('Porporciones no propensos')\n",
    "print(round(df_heart[df_heart['propenso'] == 0]['sexo']\n",
    "            .value_counts(1)\n",
    "            .sort_index(), 2))\n",
    "print('Porporciones propensos')\n",
    "print(round(df_heart[df_heart['propenso'] == 1]['sexo']\n",
    " .value_counts(1)\n",
    " .sort_index(),2))"
   ]
  },
  {
   "cell_type": "markdown",
   "metadata": {},
   "source": [
    "#### Observacion 5\n",
    "Podriamos decir que:\n",
    "* Dentro de los propensos, la distribucion es similar?\n",
    "* Dentro de los no propensos, la mayoria son hombres?\n"
   ]
  },
  {
   "cell_type": "code",
   "execution_count": null,
   "metadata": {},
   "outputs": [],
   "source": [
    "# Relacion de propensos y no propensos segun tipo_dolor\n",
    "fig, (ax, ax2) = plt.subplots(1, 2, figsize=(8, 6), sharey=True)\n",
    "fig.suptitle('Distribución - Tipo dolor')\n",
    "(df_heart[df_heart['propenso'] == 0]['tipo_dolor']\n",
    " .value_counts(1)\n",
    " .sort_index()\n",
    " .plot(ax=ax, kind='bar', color=\"yellow\"))\n",
    "ax.set_xlabel('No Propenso', size=10)\n",
    "ax.set_xticklabels([\"Asintomatico\", 'Angina tipica',\n",
    "                   'Angina atipica', 'Dolor no anginal'])\n",
    "\n",
    "(df_heart[df_heart['propenso'] == 1]['tipo_dolor']\n",
    " .value_counts(1)\n",
    " .sort_index()\n",
    " .plot(ax=ax2, kind='bar', color=\"blue\"))\n",
    "ax2.set_xlabel('Propenso', size=10)\n",
    "ax2.set_xticklabels([\"Asintomatico\", 'Angina tipica',\n",
    "                   'Angina atipica', 'Dolor no anginal'])\n",
    "plt.show()"
   ]
  },
  {
   "cell_type": "code",
   "execution_count": null,
   "metadata": {},
   "outputs": [],
   "source": [
    "# Porcentajes\n",
    "print('Porporciones no propensos')\n",
    "print(round(df_heart[df_heart['propenso'] == 0]['tipo_dolor']\n",
    "            .value_counts(1)\n",
    "            .sort_index(), 2))\n",
    "print('Porporciones propensos')\n",
    "print(round(df_heart[df_heart['propenso'] == 1]['tipo_dolor']\n",
    "            .value_counts(1)\n",
    "            .sort_index(), 2))"
   ]
  },
  {
   "cell_type": "markdown",
   "metadata": {},
   "source": [
    "#### Observacion 6\n",
    "Podriamos decir que:\n",
    "* Dentro de los no propensos, la mayoria son asintomaticos?\n",
    "* Dentro de los propensos, el dolor de angina atipica es un indicativo en cierta medida?\n"
   ]
  },
  {
   "cell_type": "code",
   "execution_count": null,
   "metadata": {},
   "outputs": [],
   "source": [
    "par_minima = df_heart['presion_arterial_reposo'].min()\n",
    "par_maxima = df_heart['presion_arterial_reposo'].max()\n",
    "bins = np.arange(par_minima, par_maxima + 5, 5)\n",
    "\n",
    "labels = [f'{i}-{i+5}' for i in bins[:-1]]\n",
    "df_heart['cat_par'] = pd.cut(\n",
    "    df_heart['presion_arterial_reposo'], bins=bins, labels=labels, include_lowest=True)\n",
    "\n",
    "pd.crosstab(df_heart.cat_par, df_heart.propenso).plot(\n",
    "    kind=\"bar\", figsize=(10, 6))\n",
    "plt.title('Frecuencia de propenso por presion arterial en reposo')\n",
    "plt.xlabel('Rangos de de presion')\n",
    "plt.xticks(rotation=45)\n",
    "plt.ylabel('Frecuencia')\n",
    "plt.show()"
   ]
  },
  {
   "cell_type": "code",
   "execution_count": null,
   "metadata": {},
   "outputs": [],
   "source": [
    "# Porcentajes\n",
    "print('Porporciones no propensos')\n",
    "print(round(df_heart[df_heart['propenso'] == 0]['cat_par']\n",
    "            .value_counts(1)\n",
    "            .sort_index(), 2))\n",
    "print('Porporciones propensos')\n",
    "print(round(df_heart[df_heart['propenso'] == 1]['cat_par']\n",
    "            .value_counts(1)\n",
    "            .sort_index(), 2))"
   ]
  },
  {
   "cell_type": "markdown",
   "metadata": {},
   "source": [
    "#### Observacion 7\n",
    "Podriamos decir que:\n",
    "* Dentro de los no propensos, despues del valor 144 es menos probable?\n",
    "* Dentro de los propensos, para valores entre 119 y 144 es mayor la probabilidad?"
   ]
  },
  {
   "cell_type": "code",
   "execution_count": null,
   "metadata": {},
   "outputs": [],
   "source": [
    "col_minima = df_heart['colesterol'].min()\n",
    "col_maxima = df_heart['colesterol'].max()\n",
    "bins = np.arange(col_minima, col_maxima + 10, 10)\n",
    "\n",
    "labels = [f'{i}-{i+10}' for i in bins[:-1]]\n",
    "df_heart['cat_col'] = pd.cut(\n",
    "    df_heart['colesterol'], bins=bins, labels=labels, include_lowest=True)\n",
    "\n",
    "pd.crosstab(df_heart.cat_col, df_heart.propenso).plot(\n",
    "    kind=\"bar\", figsize=(10, 6))\n",
    "plt.title('Frecuencia de propenso segun colesterol')\n",
    "plt.xlabel('Rangos de de colesterol')\n",
    "plt.xticks(rotation=45)\n",
    "plt.ylabel('Frecuencia')\n",
    "plt.show()"
   ]
  },
  {
   "cell_type": "code",
   "execution_count": null,
   "metadata": {},
   "outputs": [],
   "source": [
    "# Porcentajes\n",
    "print('Porporciones no propensos')\n",
    "print(round(df_heart[df_heart['propenso'] == 0]['cat_col']\n",
    "            .value_counts(1)\n",
    "            .sort_index(), 2))\n",
    "print('Porporciones propensos')\n",
    "print(round(df_heart[df_heart['propenso'] == 1]['cat_col']\n",
    "            .value_counts(1)\n",
    "            .sort_index(), 2))"
   ]
  },
  {
   "cell_type": "markdown",
   "metadata": {},
   "source": [
    "#### Observacion 8\n",
    "Podriamos decir que:\n",
    "* Dentro de los no propensos, sera posible que la franja de valores para el colesterol entre 196 y 276 pueda ser un indicativo para ?\n",
    "* Dentro de los propensos, para valores entre 119 y 144 es mayor la probabilidad de infarto de corazon?"
   ]
  },
  {
   "cell_type": "code",
   "execution_count": null,
   "metadata": {},
   "outputs": [],
   "source": [
    "# Relacion de propensos y no propensos segun tipo_dolor\n",
    "fig, (ax, ax2) = plt.subplots(1, 2, figsize=(8, 6), sharey=True)\n",
    "fig.suptitle('Distribución - Azucar en sangre')\n",
    "(df_heart[df_heart['propenso'] == 0]['azucar_en_sangre']\n",
    " .value_counts(1)\n",
    " .sort_index()\n",
    " .plot(ax=ax, kind='bar', color=\"yellow\"))\n",
    "ax.set_xlabel('No Propenso', size=10)\n",
    "ax.set_xticklabels([\"No\", 'Si'])\n",
    "\n",
    "(df_heart[df_heart['propenso'] == 1]['azucar_en_sangre']\n",
    " .value_counts(1)\n",
    " .sort_index()\n",
    " .plot(ax=ax2, kind='bar', color=\"blue\"))\n",
    "ax2.set_xlabel('Propenso', size=10)\n",
    "ax2.set_xticklabels([\"No\", 'Si'])\n",
    "plt.show()"
   ]
  },
  {
   "cell_type": "code",
   "execution_count": null,
   "metadata": {},
   "outputs": [],
   "source": [
    "# Porcentajes\n",
    "print('Porporciones no propensos')\n",
    "print(round(df_heart[df_heart['propenso'] == 0]['azucar_en_sangre']\n",
    "            .value_counts(1)\n",
    "            .sort_index(), 2))\n",
    "print('Porporciones propensos')\n",
    "print(round(df_heart[df_heart['propenso'] == 1]['azucar_en_sangre']\n",
    "            .value_counts(1)\n",
    "            .sort_index(), 2))"
   ]
  },
  {
   "cell_type": "markdown",
   "metadata": {},
   "source": [
    "#### Observacion 9\n",
    "Podriamos decir que:\n",
    "* Independientemente de las muestras, las proporciones parecen ser similares. Independientemente de si se tratan de propensos o no a un ataque cardiaco."
   ]
  },
  {
   "cell_type": "code",
   "execution_count": null,
   "metadata": {},
   "outputs": [],
   "source": [
    "# Relacion de propensos y no propensos segun resultados electrocardiologicos\n",
    "fig, (ax, ax2) = plt.subplots(1, 2, figsize=(8, 6), sharey=True)\n",
    "fig.suptitle('Distribución - Resultados electrocardiologicos')\n",
    "(df_heart[df_heart['propenso'] == 0]['res_electrocardiograficos']\n",
    " .value_counts(1)\n",
    " .sort_index()\n",
    " .plot(ax=ax, kind='bar', color=\"yellow\"))\n",
    "ax.set_xlabel('No Propenso', size=10)\n",
    "ax.set_xticklabels([\"Normal\", 'Anomalía ST-T','Hipertrofia ventricular',])\n",
    "\n",
    "(df_heart[df_heart['propenso'] == 1]['res_electrocardiograficos']\n",
    " .value_counts(1)\n",
    " .sort_index()\n",
    " .plot(ax=ax2, kind='bar', color=\"blue\"))\n",
    "ax2.set_xlabel('Propenso', size=10)\n",
    "ax2.set_xticklabels([\"Normal\", 'Anomalía ST-T','Hipertrofia ventricular',])\n",
    "plt.show()"
   ]
  },
  {
   "cell_type": "code",
   "execution_count": null,
   "metadata": {},
   "outputs": [],
   "source": [
    "# Porcentajes\n",
    "print('Porporciones no propensos')\n",
    "print(round(df_heart[df_heart['propenso'] == 0]['res_electrocardiograficos']\n",
    "            .value_counts(1)\n",
    "            .sort_index(), 2))\n",
    "print('Porporciones propensos')\n",
    "print(round(df_heart[df_heart['propenso'] == 1]['res_electrocardiograficos']\n",
    "            .value_counts(1)\n",
    "            .sort_index(), 2))"
   ]
  },
  {
   "cell_type": "markdown",
   "metadata": {},
   "source": [
    "#### Observacion 10\n",
    "Podriamos decir que:\n",
    "* Pareciera que para el caso de no propensos, el porcentaje de muestras \"Normal\" es mayor. Por lo cual, podria ser que esta variable pueda ayudar a predecir?\n",
    "* Por otro lado, para el caso de propensos a un infarto, los casos que presentan resultados de \"Anomalia ST-T\" son un poquito mayores. Por lo cual, podria ser que esta variable pueda ayudar a predecir?"
   ]
  },
  {
   "cell_type": "code",
   "execution_count": null,
   "metadata": {},
   "outputs": [],
   "source": [
    "# Relacion de propensos y no propensos segun resultados frecuencia cardiaca maxima\n",
    "fc_minima = df_heart['frec_cardiaca_max'].min()\n",
    "fc_maxima = df_heart['frec_cardiaca_max'].max()\n",
    "bins = np.arange(fc_minima, fc_maxima + 5, 5)\n",
    "\n",
    "labels = [f'{i}-{i+5}' for i in bins[:-1]]\n",
    "df_heart['cat_fcm'] = pd.cut(\n",
    "    df_heart['frec_cardiaca_max'], bins=bins, labels=labels, include_lowest=True)\n",
    "\n",
    "pd.crosstab(df_heart.cat_fcm, df_heart.propenso).plot(\n",
    "    kind=\"bar\", figsize=(10, 6))\n",
    "plt.title('Frecuencia de propenso segun frecuancia cardiaca maxima')\n",
    "plt.xlabel('Rangos de de frecuancia cardiaca maxima')\n",
    "plt.xticks(rotation=45)\n",
    "plt.ylabel('Frecuencia')\n",
    "plt.show()"
   ]
  },
  {
   "cell_type": "code",
   "execution_count": null,
   "metadata": {},
   "outputs": [],
   "source": [
    "# Porcentajes\n",
    "print('Porporciones no propensos')\n",
    "print(round(df_heart[df_heart['propenso'] == 0]['cat_fcm']\n",
    "            .value_counts(1)\n",
    "            .sort_index(), 2))\n",
    "print('Porporciones propensos')\n",
    "print(round(df_heart[df_heart['propenso'] == 1]['cat_fcm']\n",
    "            .value_counts(1)\n",
    "            .sort_index(), 2))"
   ]
  },
  {
   "cell_type": "markdown",
   "metadata": {},
   "source": [
    "#### Observacion 11\n",
    "Podriamos decir que:\n",
    "* Dentro de los no propensos, sera posible que la franja de valores para la frecuencia cardiaca maxima menores que 141 pueda ser un indicativo?\n",
    "* Dentro de los propensos, para valores mayores que 141 es mayor la probabilidad de infarto de corazon?"
   ]
  },
  {
   "cell_type": "code",
   "execution_count": null,
   "metadata": {},
   "outputs": [],
   "source": [
    "# Relacion de propensos y no propensos segun resultados angina producida por ejercicio\n",
    "fig, (ax, ax2) = plt.subplots(1, 2, figsize=(8, 6), sharey=True)\n",
    "fig.suptitle('Distribución - Resultados angina inducida por ejercicio')\n",
    "(df_heart[df_heart['propenso'] == 0]['angina_ind_ejercicio']\n",
    " .value_counts(1)\n",
    " .sort_index()\n",
    " .plot(ax=ax, kind='bar', color=\"yellow\"))\n",
    "ax.set_xlabel('No Propenso', size=10)\n",
    "ax.set_xticklabels(['No','Si',])\n",
    "\n",
    "(df_heart[df_heart['propenso'] == 1]['angina_ind_ejercicio']\n",
    " .value_counts(1)\n",
    " .sort_index()\n",
    " .plot(ax=ax2, kind='bar', color=\"blue\"))\n",
    "ax2.set_xlabel('Propenso', size=10)\n",
    "ax2.set_xticklabels(['No','Si',])\n",
    "plt.show()"
   ]
  },
  {
   "cell_type": "code",
   "execution_count": null,
   "metadata": {},
   "outputs": [],
   "source": [
    "# Porcentajes\n",
    "print('Porporciones no propensos')\n",
    "print(round(df_heart[df_heart['propenso'] == 0]['angina_ind_ejercicio']\n",
    "            .value_counts(1)\n",
    "            .sort_index(), 2))\n",
    "print('Porporciones propensos')\n",
    "print(round(df_heart[df_heart['propenso'] == 1]['angina_ind_ejercicio']\n",
    "            .value_counts(1)\n",
    "            .sort_index(), 2))"
   ]
  },
  {
   "cell_type": "markdown",
   "metadata": {},
   "source": [
    "#### Observacion 12\n",
    "Podriamos decir que:\n",
    "* Sera que el valor de angina producida por ejercicio, no es indicativo de que un paciente es propenso?"
   ]
  },
  {
   "cell_type": "code",
   "execution_count": null,
   "metadata": {},
   "outputs": [],
   "source": [
    "# Relacion de propensos y no propensos segun resultados frecuencia cardiaca maxima\n",
    "pa_minima = df_heart['pico_anterior'].min()\n",
    "pa_maxima = df_heart['pico_anterior'].max()\n",
    "bins = np.arange(pa_minima, pa_maxima + 2, 2)\n",
    "\n",
    "labels = [f'{i}-{i+2}' for i in bins[:-1]]\n",
    "df_heart['cat_pa'] = pd.cut(\n",
    "    df_heart['pico_anterior'], bins=bins, labels=labels, include_lowest=True)\n",
    "\n",
    "pd.crosstab(df_heart.cat_pa, df_heart.propenso).plot(\n",
    "    kind=\"bar\", figsize=(10, 6))\n",
    "plt.title('Frecuencia de propenso segun pico anterior')\n",
    "plt.xlabel('Rangos de de frecuancia pico anterior')\n",
    "plt.xticks(rotation=45)\n",
    "plt.ylabel('Frecuencia')\n",
    "plt.show()"
   ]
  },
  {
   "cell_type": "code",
   "execution_count": null,
   "metadata": {},
   "outputs": [],
   "source": [
    "# Porcentajes\n",
    "print('Porporciones no propensos')\n",
    "print(round(df_heart[df_heart['propenso'] == 0]['cat_pa']\n",
    "            .value_counts(1)\n",
    "            .sort_index(), 2))\n",
    "print('Porporciones propensos')\n",
    "print(round(df_heart[df_heart['propenso'] == 1]['cat_pa']\n",
    "            .value_counts(1)\n",
    "            .sort_index(), 2))"
   ]
  },
  {
   "cell_type": "markdown",
   "metadata": {},
   "source": [
    "#### Observacion 13\n",
    "Podriamos decir que:\n",
    "* Pareceria no haber una conjetura de clasificacion. Excepto que para valores pequeños de pico anterior se dan la mayor cantidad de muestras, tanto para propensos como para no propensos."
   ]
  },
  {
   "cell_type": "code",
   "execution_count": null,
   "metadata": {},
   "outputs": [],
   "source": [
    "# Relacion de propensos y no propensos segun resultados pendiente frecuencia ejercicio\n",
    "fig, (ax, ax2) = plt.subplots(1, 2, figsize=(8, 6), sharey=True)\n",
    "fig.suptitle('Distribución - Resultados pendiente frecuencia ejercicio')\n",
    "(df_heart[df_heart['propenso'] == 0]['pend_frec_ejercicio']\n",
    " .value_counts(1)\n",
    " .sort_index()\n",
    " .plot(ax=ax, kind='bar', color=\"yellow\"))\n",
    "ax.set_xlabel('No Propenso', size=10)\n",
    "ax.set_xticklabels([\"0\", '1','2',])\n",
    "\n",
    "(df_heart[df_heart['propenso'] == 1]['pend_frec_ejercicio']\n",
    " .value_counts(1)\n",
    " .sort_index()\n",
    " .plot(ax=ax2, kind='bar', color=\"blue\"))\n",
    "ax2.set_xlabel('Propenso', size=10)\n",
    "ax2.set_xticklabels([\"0\", '1','2',])\n",
    "plt.show()"
   ]
  },
  {
   "cell_type": "code",
   "execution_count": null,
   "metadata": {},
   "outputs": [],
   "source": [
    "# Porcentajes\n",
    "print('Porporciones no propensos')\n",
    "print(round(df_heart[df_heart['propenso'] == 0]['pend_frec_ejercicio']\n",
    "            .value_counts(1)\n",
    "            .sort_index(), 2))\n",
    "print('Porporciones propensos')\n",
    "print(round(df_heart[df_heart['propenso'] == 1]['pend_frec_ejercicio']\n",
    "            .value_counts(1)\n",
    "            .sort_index(), 2))"
   ]
  },
  {
   "cell_type": "markdown",
   "metadata": {},
   "source": [
    "#### Observacion 14\n",
    "Podriamos decir que:\n",
    "* De los valores registrados, en los no propensos, el valor 1 es el preponderante.\n",
    "* De los valores registrados, en los propensos, el valor 2 es el preponderante."
   ]
  },
  {
   "cell_type": "code",
   "execution_count": null,
   "metadata": {},
   "outputs": [],
   "source": [
    "# Relacion de propensos y no propensos segun numero de vasos\n",
    "fig, (ax, ax2) = plt.subplots(1, 2, figsize=(8, 6), sharey=True)\n",
    "fig.suptitle('Distribución - Resultados numero de vasos')\n",
    "(df_heart[df_heart['propenso'] == 0]['num_vasos']\n",
    " .value_counts(1)\n",
    " .sort_index()\n",
    " .plot(ax=ax, kind='bar', color=\"yellow\"))\n",
    "ax.set_xlabel('No Propenso', size=10)\n",
    "ax.set_xticklabels(['0', '1', '2', '3','4'])\n",
    "\n",
    "(df_heart[df_heart['propenso'] == 1]['num_vasos']\n",
    " .value_counts(1)\n",
    " .sort_index()\n",
    " .plot(ax=ax2, kind='bar', color=\"blue\"))\n",
    "ax2.set_xlabel('Propenso', size=10)\n",
    "ax2.set_xticklabels(['0', '1', '2', '3','4'])\n",
    "plt.show()"
   ]
  },
  {
   "cell_type": "code",
   "execution_count": null,
   "metadata": {},
   "outputs": [],
   "source": [
    "# Porcentajes\n",
    "print('Porporciones no propensos')\n",
    "print(round(df_heart[df_heart['propenso'] == 0]['num_vasos']\n",
    "            .value_counts(1)\n",
    "            .sort_index(), 2))\n",
    "print('Porporciones propensos')\n",
    "print(round(df_heart[df_heart['propenso'] == 1]['num_vasos']\n",
    "            .value_counts(1)\n",
    "            .sort_index(), 2))"
   ]
  },
  {
   "cell_type": "markdown",
   "metadata": {},
   "source": [
    "#### Observacion 15\n",
    "Podriamos decir que:\n",
    "* Pareceria haber un valor preponderante dentro de las muestras en general, siendo en el caso de los propensos el valor 0 un valor significativo y que podria ayudar a identificar en primera instancia."
   ]
  },
  {
   "cell_type": "code",
   "execution_count": null,
   "metadata": {},
   "outputs": [],
   "source": [
    "# Relacion de propensos y no propensos segun estado del corazon\n",
    "fig, (ax, ax2) = plt.subplots(1, 2, figsize=(8, 6), sharey=True)\n",
    "fig.suptitle('Distribución - Resultados estado del corazon')\n",
    "(df_heart[df_heart['propenso'] == 0]['estado_corazon']\n",
    " .value_counts(1)\n",
    " .sort_index()\n",
    " .plot(ax=ax, kind='bar', color=\"yellow\"))\n",
    "ax.set_xlabel('No Propenso', size=10)\n",
    "ax.set_xticklabels(['0', '1', '2', '3'])\n",
    "\n",
    "(df_heart[df_heart['propenso'] == 1]['estado_corazon']\n",
    " .value_counts(1)\n",
    " .sort_index()\n",
    " .plot(ax=ax2, kind='bar', color=\"blue\"))\n",
    "ax2.set_xlabel('Propenso', size=10)\n",
    "ax2.set_xticklabels(['0', '1', '2', '3'])\n",
    "plt.show()"
   ]
  },
  {
   "cell_type": "code",
   "execution_count": null,
   "metadata": {},
   "outputs": [],
   "source": [
    "# Porcentajes\n",
    "print('Porporciones no propensos')\n",
    "print(round(df_heart[df_heart['propenso'] == 0]['estado_corazon']\n",
    "            .value_counts(1)\n",
    "            .sort_index(), 2))\n",
    "print('Porporciones propensos')\n",
    "print(round(df_heart[df_heart['propenso'] == 1]['estado_corazon']\n",
    "            .value_counts(1)\n",
    "            .sort_index(), 2))"
   ]
  },
  {
   "cell_type": "markdown",
   "metadata": {},
   "source": [
    "#### Observacion 16\n",
    "Podriamos decir que:\n",
    "* Para los no propensos, el valor 3 pareceria tener mayor prevalecencia.\n",
    "* Paa los propensos, el valor 2 se encuentra en mayor proporcion.\n",
    "* Podrian llegar a ser valores que ayuden a la deteccion."
   ]
  },
  {
   "cell_type": "markdown",
   "metadata": {},
   "source": [
    "### RESUMEN DE ENTENDIMIENTO DEL NEGOCIO Y DATOS\n",
    "\n",
    "*   En cuanto al estado, salud y calidad de los datos (inicial):\n",
    "    * Pareciera ser que los datos estan bastante organizados.\n",
    "    * No se encuentran incoherencias en los valores, como ser negativos, etc.\n",
    "    * Es un conjunto de datos manejables.\n",
    "    * Los tipos de datos iniciales, parecen logicos.\n",
    "    * En general no se encuentran relaciones fuertes entre las variables independientes y la dependiente.\n",
    "    * Ya que:\n",
    "        *   El objetivo del modelo es poder determinar un valor verdadero/falso o si/no.\n",
    "        *   Contamos con una variable objetivo o etiqueta de valor resultante. Por lo cual utilizariamos un modelo de algoritmo supervisado.\n",
    "        *   ## Vamos a usar un modelo de clasificacion logica\n",
    "*   En cuanto a algunos tratamientos a realizar,si corresponden:\n",
    "    *   Registros duplicados\n",
    "        *   Eliminar registros duplicados\n",
    "    *   Valores nulos\n",
    "        * No hay\n",
    "    *   Columnas derivadas de categoricas\n",
    "        *   Aunque no existen columnas categoricas en si, entendemos ciertas columnas tienen un origen categorico. Por lo cual se podrian haber tratado con un enfoque mas general, como que las columnas:\n",
    "            *   sexo\n",
    "            *   tipo_dolor\n",
    "            *   axucar_en_sangre\n",
    "            *   res_electrocardiograficos\n",
    "            *   angina_ind_ejercicio\n",
    "            *   num_vasos\n",
    "            *   estado_corazon\n"
   ]
  },
  {
   "cell_type": "markdown",
   "metadata": {},
   "source": [
    "---\n",
    "# Preparacion de los datos (Data Preparation)\n",
    "---"
   ]
  },
  {
   "cell_type": "markdown",
   "metadata": {},
   "source": [
    "---\n",
    "# Modeling (Modeling)\n",
    "---"
   ]
  },
  {
   "cell_type": "markdown",
   "metadata": {},
   "source": [
    "---\n",
    "# Evaluacion (Evaluation)\n",
    "---"
   ]
  },
  {
   "cell_type": "markdown",
   "metadata": {},
   "source": [
    "---\n",
    "# Deployment (Despliegue)\n",
    "---"
   ]
  }
 ],
 "metadata": {
  "kernelspec": {
   "display_name": "envWindows",
   "language": "python",
   "name": "python3"
  },
  "language_info": {
   "codemirror_mode": {
    "name": "ipython",
    "version": 3
   },
   "file_extension": ".py",
   "mimetype": "text/x-python",
   "name": "python",
   "nbconvert_exporter": "python",
   "pygments_lexer": "ipython3",
   "version": "3.12.3"
  }
 },
 "nbformat": 4,
 "nbformat_minor": 2
}
